{
 "cells": [
  {
   "cell_type": "code",
   "execution_count": 76,
   "metadata": {},
   "outputs": [],
   "source": [
    "import numpy as np"
   ]
  },
  {
   "cell_type": "code",
   "execution_count": 77,
   "metadata": {},
   "outputs": [],
   "source": [
    "V = np.zeros((3,4))"
   ]
  },
  {
   "cell_type": "code",
   "execution_count": 78,
   "metadata": {},
   "outputs": [],
   "source": [
    "V[1,3]=-1\n",
    "V[0,3] = 1\n",
    "V[1,1] = -100\n",
    "gamma = 0.9"
   ]
  },
  {
   "cell_type": "code",
   "execution_count": 79,
   "metadata": {},
   "outputs": [
    {
     "data": {
      "text/plain": [
       "(3, 4)"
      ]
     },
     "execution_count": 79,
     "metadata": {},
     "output_type": "execute_result"
    }
   ],
   "source": [
    "V.shape"
   ]
  },
  {
   "cell_type": "code",
   "execution_count": 80,
   "metadata": {},
   "outputs": [],
   "source": [
    "def find_move(x,y, shape_v):\n",
    "  up = (x-1, y)\n",
    "  down = (x+1, y)\n",
    "  left = (x, y-1)\n",
    "  right = (x, y+1)\n",
    "\n",
    "  list_move = [up, down, left, right]\n",
    "  \n",
    "  true_list_move = []\n",
    "  for move in list_move:\n",
    "    for stt,i in enumerate(move):\n",
    "      if i < 0:\n",
    "        break\n",
    "      elif i >= shape_v[stt]:\n",
    "        break\n",
    "      if stt:\n",
    "        true_list_move.append(move)\n",
    "  return true_list_move"
   ]
  },
  {
   "cell_type": "code",
   "execution_count": 81,
   "metadata": {},
   "outputs": [],
   "source": [
    "is_locks = [(1, 1)]\n",
    "results = []"
   ]
  },
  {
   "cell_type": "code",
   "execution_count": 82,
   "metadata": {},
   "outputs": [],
   "source": [
    "for x in range(len(V)):\n",
    "  for y in range(len(V[0])):\n",
    "    list_move = find_move(x, y, V.shape)\n",
    "    for move in list_move:\n",
    "        if move == is_locks[0]:\n",
    "            list_move.remove(move)\n",
    "    dict_move = {\"cell\": (x , y), \"moves\": list_move}\n",
    "    results.append(dict_move)"
   ]
  },
  {
   "cell_type": "code",
   "execution_count": 83,
   "metadata": {},
   "outputs": [
    {
     "data": {
      "text/plain": [
       "[{'cell': (0, 0), 'moves': [(1, 0), (0, 1)]},\n",
       " {'cell': (0, 1), 'moves': [(0, 0), (0, 2)]},\n",
       " {'cell': (0, 2), 'moves': [(1, 2), (0, 1), (0, 3)]},\n",
       " {'cell': (0, 3), 'moves': [(1, 3), (0, 2)]},\n",
       " {'cell': (1, 0), 'moves': [(0, 0), (2, 0)]},\n",
       " {'cell': (1, 1), 'moves': [(0, 1), (2, 1), (1, 0), (1, 2)]},\n",
       " {'cell': (1, 2), 'moves': [(0, 2), (2, 2), (1, 3)]},\n",
       " {'cell': (1, 3), 'moves': [(0, 3), (2, 3), (1, 2)]},\n",
       " {'cell': (2, 0), 'moves': [(1, 0), (2, 1)]},\n",
       " {'cell': (2, 1), 'moves': [(2, 0), (2, 2)]},\n",
       " {'cell': (2, 2), 'moves': [(1, 2), (2, 1), (2, 3)]},\n",
       " {'cell': (2, 3), 'moves': [(1, 3), (2, 2)]}]"
      ]
     },
     "execution_count": 83,
     "metadata": {},
     "output_type": "execute_result"
    }
   ],
   "source": [
    "results"
   ]
  },
  {
   "cell_type": "code",
   "execution_count": 57,
   "metadata": {},
   "outputs": [],
   "source": [
    "V[(0, 2)] = 0.72"
   ]
  },
  {
   "cell_type": "code",
   "execution_count": 103,
   "metadata": {},
   "outputs": [],
   "source": [
    "def cal_cell_val(x, y, dict_move: dict):\n",
    "    for move in dict_move:\n",
    "        if move[\"cell\"] == (x , y):\n",
    "            move_list = move[\"moves\"]\n",
    "            break\n",
    "    value_range = []\n",
    "    for i in range(len(move_list)):\n",
    "        marked = move_list[i]\n",
    "        sum = 0\n",
    "        for j in move_list:\n",
    "            if j == marked:\n",
    "                sum += 0.8 * (0.0+gamma*V[marked])\n",
    "            else:\n",
    "                sum += 0.2/(len(move_list)-1)*(0.0+gamma*V[j])\n",
    "        value_range.append(sum)\n",
    "    return max(value_range)"
   ]
  },
  {
   "cell_type": "code",
   "execution_count": 105,
   "metadata": {},
   "outputs": [
    {
     "data": {
      "text/plain": [
       "0.7200000000000001"
      ]
     },
     "execution_count": 105,
     "metadata": {},
     "output_type": "execute_result"
    }
   ],
   "source": [
    "cal_cell_val(0, 2, results)"
   ]
  }
 ],
 "metadata": {
  "kernelspec": {
   "display_name": "Python 3.12.0 64-bit",
   "language": "python",
   "name": "python3"
  },
  "language_info": {
   "codemirror_mode": {
    "name": "ipython",
    "version": 3
   },
   "file_extension": ".py",
   "mimetype": "text/x-python",
   "name": "python",
   "nbconvert_exporter": "python",
   "pygments_lexer": "ipython3",
   "version": "3.12.0"
  },
  "orig_nbformat": 4,
  "vscode": {
   "interpreter": {
    "hash": "32e8181fce7c3e359c2790b917cd539742ff129bf629b8ad82002a107951ad4e"
   }
  }
 },
 "nbformat": 4,
 "nbformat_minor": 2
}
