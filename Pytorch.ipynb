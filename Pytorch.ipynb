{
  "nbformat": 4,
  "nbformat_minor": 0,
  "metadata": {
    "colab": {
      "provenance": [],
      "authorship_tag": "ABX9TyOtPIumB052RSWBq5Rw2gNj",
      "include_colab_link": true
    },
    "kernelspec": {
      "name": "python3",
      "display_name": "Python 3"
    },
    "language_info": {
      "name": "python"
    }
  },
  "cells": [
    {
      "cell_type": "markdown",
      "metadata": {
        "id": "view-in-github",
        "colab_type": "text"
      },
      "source": [
        "<a href=\"https://colab.research.google.com/github/manhduc07/LMAO/blob/main/Pytorch.ipynb\" target=\"_parent\"><img src=\"https://colab.research.google.com/assets/colab-badge.svg\" alt=\"Open In Colab\"/></a>"
      ]
    },
    {
      "cell_type": "markdown",
      "source": [
        " Viết mô hình Linear Regession bằng Pytorch"
      ],
      "metadata": {
        "id": "snrpCcKuOVRa"
      }
    },
    {
      "cell_type": "code",
      "execution_count": 71,
      "metadata": {
        "id": "M5ZA1lVhFH_i"
      },
      "outputs": [],
      "source": [
        "import torch\n",
        "import torch.nn as nn\n",
        "import numpy as np\n",
        "import torch.optim as optim\n",
        "import matplotlib.pyplot as plt"
      ]
    },
    {
      "cell_type": "code",
      "source": [
        "# --- Cài đặt ngẫu nhiên và tạo dữ liệu ---\n",
        "torch.manual_seed(42)  # Đặt seed cho kết quả nhất quán\n",
        "\n",
        "# Tạo dữ liệu giả định với độ nhiễu\n",
        "X = 10 * torch.rand(100, 1)  # Trực tiếp tạo tensor PyTorch\n",
        "y = 2 * X + 3 + 0.2 * torch.randn(100, 1)\n"
      ],
      "metadata": {
        "id": "l_1n_3BEHRkp"
      },
      "execution_count": 72,
      "outputs": []
    },
    {
      "cell_type": "code",
      "source": [
        "# --- Mô hình hoá ---\n",
        "class LinearRegression(nn.Module):\n",
        "    def __init__(self, input_size, output_size):\n",
        "        super().__init__()  # Sử dụng cú pháp kế thừa hiện đại\n",
        "        self.linear = nn.Linear(input_size, output_size)\n",
        "\n",
        "    def forward(self, x):\n",
        "        return self.linear(x)"
      ],
      "metadata": {
        "id": "rEpYfoEYF2gb"
      },
      "execution_count": 73,
      "outputs": []
    },
    {
      "cell_type": "code",
      "source": [
        "# --- Chuẩn bị và huấn luyện ---\n",
        "input_size = 1\n",
        "output_size = 1\n",
        "model = LinearRegression(input_size, output_size)"
      ],
      "metadata": {
        "id": "YSRqUpffHbeG"
      },
      "execution_count": 74,
      "outputs": []
    },
    {
      "cell_type": "code",
      "source": [
        "# Sử dụng Adam optimizer\n",
        "optimizer = torch.optim.Adam(model.parameters(), lr=0.01)\n",
        "criterion = nn.MSELoss()\n",
        "\n",
        "num_epochs = 10000\n",
        "for epoch in range(num_epochs):\n",
        "    outputs = model(X)\n",
        "    loss = criterion(outputs, y)\n",
        "\n",
        "    optimizer.zero_grad()\n",
        "    loss.backward()\n",
        "    optimizer.step()\n",
        "\n",
        "    if (epoch + 1) % 100 == 0:\n",
        "        print(f'Epoch [{epoch + 1}/{num_epochs}], Loss: {loss.item():.4f}')\n"
      ],
      "metadata": {
        "colab": {
          "base_uri": "https://localhost:8080/"
        },
        "id": "L9U4ikqGHf5G",
        "outputId": "d058206d-a9f7-478c-b32b-2899b99daa27"
      },
      "execution_count": 75,
      "outputs": [
        {
          "output_type": "stream",
          "name": "stdout",
          "text": [
            "Epoch [100/10000], Loss: 61.2106\n",
            "Epoch [200/10000], Loss: 13.4544\n",
            "Epoch [300/10000], Loss: 2.2157\n",
            "Epoch [400/10000], Loss: 0.5329\n",
            "Epoch [500/10000], Loss: 0.3539\n",
            "Epoch [600/10000], Loss: 0.3164\n",
            "Epoch [700/10000], Loss: 0.2867\n",
            "Epoch [800/10000], Loss: 0.2577\n",
            "Epoch [900/10000], Loss: 0.2296\n",
            "Epoch [1000/10000], Loss: 0.2030\n",
            "Epoch [1100/10000], Loss: 0.1780\n",
            "Epoch [1200/10000], Loss: 0.1550\n",
            "Epoch [1300/10000], Loss: 0.1342\n",
            "Epoch [1400/10000], Loss: 0.1156\n",
            "Epoch [1500/10000], Loss: 0.0993\n",
            "Epoch [1600/10000], Loss: 0.0852\n",
            "Epoch [1700/10000], Loss: 0.0731\n",
            "Epoch [1800/10000], Loss: 0.0630\n",
            "Epoch [1900/10000], Loss: 0.0546\n",
            "Epoch [2000/10000], Loss: 0.0479\n",
            "Epoch [2100/10000], Loss: 0.0424\n",
            "Epoch [2200/10000], Loss: 0.0382\n",
            "Epoch [2300/10000], Loss: 0.0349\n",
            "Epoch [2400/10000], Loss: 0.0325\n",
            "Epoch [2500/10000], Loss: 0.0306\n",
            "Epoch [2600/10000], Loss: 0.0293\n",
            "Epoch [2700/10000], Loss: 0.0284\n",
            "Epoch [2800/10000], Loss: 0.0277\n",
            "Epoch [2900/10000], Loss: 0.0273\n",
            "Epoch [3000/10000], Loss: 0.0270\n",
            "Epoch [3100/10000], Loss: 0.0268\n",
            "Epoch [3200/10000], Loss: 0.0267\n",
            "Epoch [3300/10000], Loss: 0.0266\n",
            "Epoch [3400/10000], Loss: 0.0266\n",
            "Epoch [3500/10000], Loss: 0.0266\n",
            "Epoch [3600/10000], Loss: 0.0265\n",
            "Epoch [3700/10000], Loss: 0.0265\n",
            "Epoch [3800/10000], Loss: 0.0265\n",
            "Epoch [3900/10000], Loss: 0.0265\n",
            "Epoch [4000/10000], Loss: 0.0265\n",
            "Epoch [4100/10000], Loss: 0.0265\n",
            "Epoch [4200/10000], Loss: 0.0265\n",
            "Epoch [4300/10000], Loss: 0.0265\n",
            "Epoch [4400/10000], Loss: 0.0265\n",
            "Epoch [4500/10000], Loss: 0.0265\n",
            "Epoch [4600/10000], Loss: 0.0265\n",
            "Epoch [4700/10000], Loss: 0.0265\n",
            "Epoch [4800/10000], Loss: 0.0265\n",
            "Epoch [4900/10000], Loss: 0.0265\n",
            "Epoch [5000/10000], Loss: 0.0265\n",
            "Epoch [5100/10000], Loss: 0.0265\n",
            "Epoch [5200/10000], Loss: 0.0265\n",
            "Epoch [5300/10000], Loss: 0.0265\n",
            "Epoch [5400/10000], Loss: 0.0265\n",
            "Epoch [5500/10000], Loss: 0.0265\n",
            "Epoch [5600/10000], Loss: 0.0265\n",
            "Epoch [5700/10000], Loss: 0.0265\n",
            "Epoch [5800/10000], Loss: 0.0265\n",
            "Epoch [5900/10000], Loss: 0.0265\n",
            "Epoch [6000/10000], Loss: 0.0265\n",
            "Epoch [6100/10000], Loss: 0.0265\n",
            "Epoch [6200/10000], Loss: 0.0265\n",
            "Epoch [6300/10000], Loss: 0.0265\n",
            "Epoch [6400/10000], Loss: 0.0265\n",
            "Epoch [6500/10000], Loss: 0.0265\n",
            "Epoch [6600/10000], Loss: 0.0265\n",
            "Epoch [6700/10000], Loss: 0.0265\n",
            "Epoch [6800/10000], Loss: 0.0265\n",
            "Epoch [6900/10000], Loss: 0.0265\n",
            "Epoch [7000/10000], Loss: 0.0265\n",
            "Epoch [7100/10000], Loss: 0.0265\n",
            "Epoch [7200/10000], Loss: 0.0265\n",
            "Epoch [7300/10000], Loss: 0.0265\n",
            "Epoch [7400/10000], Loss: 0.0265\n",
            "Epoch [7500/10000], Loss: 0.0265\n",
            "Epoch [7600/10000], Loss: 0.0265\n",
            "Epoch [7700/10000], Loss: 0.0265\n",
            "Epoch [7800/10000], Loss: 0.0265\n",
            "Epoch [7900/10000], Loss: 0.0265\n",
            "Epoch [8000/10000], Loss: 0.0265\n",
            "Epoch [8100/10000], Loss: 0.0265\n",
            "Epoch [8200/10000], Loss: 0.0265\n",
            "Epoch [8300/10000], Loss: 0.0265\n",
            "Epoch [8400/10000], Loss: 0.0265\n",
            "Epoch [8500/10000], Loss: 0.0265\n",
            "Epoch [8600/10000], Loss: 0.0265\n",
            "Epoch [8700/10000], Loss: 0.0265\n",
            "Epoch [8800/10000], Loss: 0.0265\n",
            "Epoch [8900/10000], Loss: 0.0265\n",
            "Epoch [9000/10000], Loss: 0.0265\n",
            "Epoch [9100/10000], Loss: 0.0265\n",
            "Epoch [9200/10000], Loss: 0.0265\n",
            "Epoch [9300/10000], Loss: 0.0265\n",
            "Epoch [9400/10000], Loss: 0.0265\n",
            "Epoch [9500/10000], Loss: 0.0265\n",
            "Epoch [9600/10000], Loss: 0.0265\n",
            "Epoch [9700/10000], Loss: 0.0265\n",
            "Epoch [9800/10000], Loss: 0.0265\n",
            "Epoch [9900/10000], Loss: 0.0265\n",
            "Epoch [10000/10000], Loss: 0.0265\n"
          ]
        }
      ]
    },
    {
      "cell_type": "code",
      "source": [
        "# --- Đánh giá và trực quan hóa ---\n",
        "with torch.no_grad():  # Ngăn chặn tính toán gradient trong quá trình đánh giá\n",
        "    predicted = model(X).numpy()  # Chuyển tiếp một lần nữa và chuyển sang NumPy\n",
        "\n",
        "plt.figure(figsize=(8, 6))\n",
        "plt.scatter(X.numpy(), y.numpy(), label='Original data')\n",
        "plt.plot(X.numpy(), predicted, color='red', label='Fitted line')\n",
        "plt.xlabel('X')\n",
        "plt.ylabel('y')\n",
        "plt.title('Linear Regression with PyTorch')\n",
        "plt.legend()\n",
        "plt.show()"
      ],
      "metadata": {
        "colab": {
          "base_uri": "https://localhost:8080/",
          "height": 564
        },
        "id": "tTPQ8DTqHhCx",
        "outputId": "bce5be34-a1c4-46ac-f1fd-a5900a6a80d1"
      },
      "execution_count": 76,
      "outputs": [
        {
          "output_type": "display_data",
          "data": {
            "text/plain": [
              "<Figure size 800x600 with 1 Axes>"
            ],
            "image/png": "[encoded data removed]"
          },
          "metadata": {}
        }
      ]
    },
    {
      "cell_type": "markdown",
      "source": [
        " Viết mô hình Lgistic Regession bằng Pytorch"
      ],
      "metadata": {
        "id": "c3d2MXGHQ8hp"
      }
    },
    {
      "cell_type": "code",
      "source": [
        "# Create data (Seeding for consistent results)\n",
        "np.random.seed(42)\n",
        "X = 10 * np.random.rand(100, 2)  # 100 data points with 2 features\n",
        "y = (X[:, 0] + X[:, 1] > 10).astype(int)  # Label based on linear relationship\n"
      ],
      "metadata": {
        "id": "JZcq-ae7JiI5"
      },
      "execution_count": 77,
      "outputs": []
    },
    {
      "cell_type": "code",
      "source": [
        "# Convert data to PyTorch tensors\n",
        "X_tensor = torch.tensor(X, dtype=torch.float32)\n",
        "y_tensor = torch.tensor(y, dtype=torch.float32).view(-1, 1)"
      ],
      "metadata": {
        "id": "XjO_Fz3jRKqv"
      },
      "execution_count": 78,
      "outputs": []
    },
    {
      "cell_type": "code",
      "source": [
        "# Logistic Regression Model\n",
        "class LogisticRegression(nn.Module):\n",
        "    def __init__(self, input_size):\n",
        "        super(LogisticRegression, self).__init__()\n",
        "        self.linear = nn.Linear(input_size, 1)  # Linear layer with 1 output\n",
        "\n",
        "    def forward(self, x):\n",
        "        return torch.sigmoid(self.linear(x))  # Apply sigmoid activation"
      ],
      "metadata": {
        "id": "nKCfaOBhRHMu"
      },
      "execution_count": 79,
      "outputs": []
    },
    {
      "cell_type": "code",
      "source": [
        "# Model and Hyperparameters\n",
        "input_size = 2\n",
        "model = LogisticRegression(input_size)\n"
      ],
      "metadata": {
        "id": "-PyIpgc_RYLG"
      },
      "execution_count": 80,
      "outputs": []
    },
    {
      "cell_type": "code",
      "source": [
        "# Loss function and Optimizer\n",
        "criterion = nn.BCELoss()  # Binary Cross Entropy for Logistic Regression\n",
        "optimizer = torch.optim.SGD(model.parameters(), lr=0.01)  # Stochastic Gradient Descent"
      ],
      "metadata": {
        "id": "JdQPNQnpRbKS"
      },
      "execution_count": 81,
      "outputs": []
    },
    {
      "cell_type": "code",
      "source": [
        "# Training Loop\n",
        "num_epochs = 10000\n",
        "for epoch in range(num_epochs):\n",
        "    # Forward pass\n",
        "    outputs = model(X_tensor)\n",
        "    loss = criterion(outputs, y_tensor)\n",
        "\n",
        "    # Backward pass and optimize\n",
        "    optimizer.zero_grad()\n",
        "    loss.backward()\n",
        "    optimizer.step()\n",
        "\n",
        "    if (epoch + 1) % 100 == 0:\n",
        "        print(f'Epoch [{epoch + 1}/{num_epochs}], Loss: {loss.item():.4f}')"
      ],
      "metadata": {
        "colab": {
          "base_uri": "https://localhost:8080/"
        },
        "id": "te1vZ6PQReu7",
        "outputId": "9b279189-b90d-4696-8fa8-d8325d33aa3b"
      },
      "execution_count": 82,
      "outputs": [
        {
          "output_type": "stream",
          "name": "stdout",
          "text": [
            "Epoch [100/10000], Loss: 0.5742\n",
            "Epoch [200/10000], Loss: 0.5550\n",
            "Epoch [300/10000], Loss: 0.5389\n",
            "Epoch [400/10000], Loss: 0.5238\n",
            "Epoch [500/10000], Loss: 0.5096\n",
            "Epoch [600/10000], Loss: 0.4964\n",
            "Epoch [700/10000], Loss: 0.4840\n",
            "Epoch [800/10000], Loss: 0.4723\n",
            "Epoch [900/10000], Loss: 0.4613\n",
            "Epoch [1000/10000], Loss: 0.4509\n",
            "Epoch [1100/10000], Loss: 0.4412\n",
            "Epoch [1200/10000], Loss: 0.4320\n",
            "Epoch [1300/10000], Loss: 0.4232\n",
            "Epoch [1400/10000], Loss: 0.4150\n",
            "Epoch [1500/10000], Loss: 0.4072\n",
            "Epoch [1600/10000], Loss: 0.3997\n",
            "Epoch [1700/10000], Loss: 0.3927\n",
            "Epoch [1800/10000], Loss: 0.3860\n",
            "Epoch [1900/10000], Loss: 0.3796\n",
            "Epoch [2000/10000], Loss: 0.3735\n",
            "Epoch [2100/10000], Loss: 0.3676\n",
            "Epoch [2200/10000], Loss: 0.3621\n",
            "Epoch [2300/10000], Loss: 0.3567\n",
            "Epoch [2400/10000], Loss: 0.3516\n",
            "Epoch [2500/10000], Loss: 0.3467\n",
            "Epoch [2600/10000], Loss: 0.3421\n",
            "Epoch [2700/10000], Loss: 0.3375\n",
            "Epoch [2800/10000], Loss: 0.3332\n",
            "Epoch [2900/10000], Loss: 0.3291\n",
            "Epoch [3000/10000], Loss: 0.3251\n",
            "Epoch [3100/10000], Loss: 0.3212\n",
            "Epoch [3200/10000], Loss: 0.3175\n",
            "Epoch [3300/10000], Loss: 0.3139\n",
            "Epoch [3400/10000], Loss: 0.3104\n",
            "Epoch [3500/10000], Loss: 0.3071\n",
            "Epoch [3600/10000], Loss: 0.3038\n",
            "Epoch [3700/10000], Loss: 0.3007\n",
            "Epoch [3800/10000], Loss: 0.2977\n",
            "Epoch [3900/10000], Loss: 0.2947\n",
            "Epoch [4000/10000], Loss: 0.2919\n",
            "Epoch [4100/10000], Loss: 0.2891\n",
            "Epoch [4200/10000], Loss: 0.2865\n",
            "Epoch [4300/10000], Loss: 0.2839\n",
            "Epoch [4400/10000], Loss: 0.2813\n",
            "Epoch [4500/10000], Loss: 0.2789\n",
            "Epoch [4600/10000], Loss: 0.2765\n",
            "Epoch [4700/10000], Loss: 0.2742\n",
            "Epoch [4800/10000], Loss: 0.2719\n",
            "Epoch [4900/10000], Loss: 0.2697\n",
            "Epoch [5000/10000], Loss: 0.2676\n",
            "Epoch [5100/10000], Loss: 0.2655\n",
            "Epoch [5200/10000], Loss: 0.2635\n",
            "Epoch [5300/10000], Loss: 0.2615\n",
            "Epoch [5400/10000], Loss: 0.2596\n",
            "Epoch [5500/10000], Loss: 0.2577\n",
            "Epoch [5600/10000], Loss: 0.2558\n",
            "Epoch [5700/10000], Loss: 0.2541\n",
            "Epoch [5800/10000], Loss: 0.2523\n",
            "Epoch [5900/10000], Loss: 0.2506\n",
            "Epoch [6000/10000], Loss: 0.2489\n",
            "Epoch [6100/10000], Loss: 0.2473\n",
            "Epoch [6200/10000], Loss: 0.2457\n",
            "Epoch [6300/10000], Loss: 0.2441\n",
            "Epoch [6400/10000], Loss: 0.2426\n",
            "Epoch [6500/10000], Loss: 0.2411\n",
            "Epoch [6600/10000], Loss: 0.2396\n",
            "Epoch [6700/10000], Loss: 0.2382\n",
            "Epoch [6800/10000], Loss: 0.2368\n",
            "Epoch [6900/10000], Loss: 0.2354\n",
            "Epoch [7000/10000], Loss: 0.2340\n",
            "Epoch [7100/10000], Loss: 0.2327\n",
            "Epoch [7200/10000], Loss: 0.2314\n",
            "Epoch [7300/10000], Loss: 0.2301\n",
            "Epoch [7400/10000], Loss: 0.2289\n",
            "Epoch [7500/10000], Loss: 0.2276\n",
            "Epoch [7600/10000], Loss: 0.2264\n",
            "Epoch [7700/10000], Loss: 0.2252\n",
            "Epoch [7800/10000], Loss: 0.2241\n",
            "Epoch [7900/10000], Loss: 0.2229\n",
            "Epoch [8000/10000], Loss: 0.2218\n",
            "Epoch [8100/10000], Loss: 0.2207\n",
            "Epoch [8200/10000], Loss: 0.2196\n",
            "Epoch [8300/10000], Loss: 0.2185\n",
            "Epoch [8400/10000], Loss: 0.2175\n",
            "Epoch [8500/10000], Loss: 0.2165\n",
            "Epoch [8600/10000], Loss: 0.2155\n",
            "Epoch [8700/10000], Loss: 0.2145\n",
            "Epoch [8800/10000], Loss: 0.2135\n",
            "Epoch [8900/10000], Loss: 0.2125\n",
            "Epoch [9000/10000], Loss: 0.2116\n",
            "Epoch [9100/10000], Loss: 0.2106\n",
            "Epoch [9200/10000], Loss: 0.2097\n",
            "Epoch [9300/10000], Loss: 0.2088\n",
            "Epoch [9400/10000], Loss: 0.2079\n",
            "Epoch [9500/10000], Loss: 0.2070\n",
            "Epoch [9600/10000], Loss: 0.2062\n",
            "Epoch [9700/10000], Loss: 0.2053\n",
            "Epoch [9800/10000], Loss: 0.2045\n",
            "Epoch [9900/10000], Loss: 0.2036\n",
            "Epoch [10000/10000], Loss: 0.2028\n"
          ]
        }
      ]
    },
    {
      "cell_type": "code",
      "source": [
        "# Evaluation\n",
        "with torch.no_grad():\n",
        "    predicted = model(X_tensor).numpy()\n",
        "    predicted_class = (predicted > 0.5).astype(int)  # Thresholding for class prediction\n",
        "    accuracy = np.mean(predicted_class == y)\n",
        "    print(f'Accuracy: {accuracy:.2f}')\n",
        "\n",
        "# Visualization (Decision Boundary)\n",
        "plt.figure(figsize=(8, 6))\n",
        "plt.scatter(X[:, 0], X[:, 1], c=y, cmap=plt.cm.Paired)  # Scatter plot with color-coded labels\n",
        "\n",
        "# Define ranges for plotting the decision boundary\n",
        "x1_min, x1_max = X[:, 0].min() - 1, X[:, 0].max() + 1\n",
        "x2_min, x2_max = X[:, 1].min() - 1, X[:, 1].max() + 1\n",
        "\n",
        "# Create a mesh grid for evaluation across the feature space\n",
        "xx1, xx2 = np.meshgrid(np.arange(x1_min, x1_max, 0.1), np.arange(x2_min, x2_max, 0.1))\n",
        "grid_tensor = torch.tensor(np.c_[xx1.ravel(), xx2.ravel()], dtype=torch.float32)\n",
        "\n",
        "# Get predictions for the mesh grid points\n",
        "Z = model(grid_tensor).detach().numpy()\n",
        "Z = Z.reshape(xx1.shape)\n",
        "\n",
        "# Plot the decision boundary based on predicted probabilities\n",
        "plt.contourf(xx1, xx2, Z, alpha=0.3)\n",
        "plt.xlabel('Feature 1')\n",
        "plt.ylabel('Feature 2')\n",
        "plt.title('Logistic Regression Classifier')\n",
        "plt.show()"
      ],
      "metadata": {
        "colab": {
          "base_uri": "https://localhost:8080/",
          "height": 582
        },
        "id": "j54kDL8HRhrf",
        "outputId": "31f87c78-0568-47d2-8b3f-cb39062305bc"
      },
      "execution_count": 83,
      "outputs": [
        {
          "output_type": "stream",
          "name": "stdout",
          "text": [
            "Accuracy: 0.51\n"
          ]
        },
        {
          "output_type": "display_data",
          "data": {
            "text/plain": [
              "<Figure size 800x600 with 1 Axes>"
            ],
            "image/png": "[encoded data removed]"
          },
          "metadata": {}
        }
      ]
    },
    {
      "cell_type": "markdown",
      "source": [
        "Viết chương trình xử lý dữ liệu sau với Pytorch(bảng giá trị cho trong file đính kèm)"
      ],
      "metadata": {
        "id": "8mGcJREYRwEs"
      }
    },
    {
      "cell_type": "code",
      "source": [
        "# Dữ liệu đầu vào\n",
        "X = torch.tensor([[0, 0], [0, 1], [1, 0], [1, 1]], dtype=torch.float32)\n",
        "# Kết quả mong muốn\n",
        "y = torch.tensor([[0], [1], [1], [0]], dtype=torch.float32)"
      ],
      "metadata": {
        "id": "QPKb5OyWRwl8"
      },
      "execution_count": 84,
      "outputs": []
    },
    {
      "cell_type": "code",
      "source": [
        "class SimpleNN(nn.Module):\n",
        "    def __init__(self):\n",
        "        super(SimpleNN, self).__init__()\n",
        "        self.fc = nn.Linear(2, 1) # Lớp tuyến tính\n",
        "\n",
        "    def forward(self, x):\n",
        "        x = self.fc(x)\n",
        "        return x"
      ],
      "metadata": {
        "id": "SqiKSBx4S_ys"
      },
      "execution_count": 85,
      "outputs": []
    },
    {
      "cell_type": "code",
      "source": [
        "# Khởi tạo mô hình\n",
        "model = SimpleNN()\n",
        "\n",
        "# Định nghĩa hàm loss và bộ tối ưu hóa\n",
        "criterion = nn.MSELoss()\n",
        "optimizer = optim.SGD(model.parameters(), lr=0.1)"
      ],
      "metadata": {
        "id": "_I6-RZxSTFB_"
      },
      "execution_count": 86,
      "outputs": []
    },
    {
      "cell_type": "code",
      "source": [
        "# Huấn luyện mô hình\n",
        "for epoch in range(100000):\n",
        "    # Forward pass\n",
        "    outputs = model(X)\n",
        "    # Tính loss\n",
        "    loss = criterion(outputs, y)\n",
        "    # Backward pass và cập nhật trọng số\n",
        "    optimizer.zero_grad()\n",
        "    loss.backward()\n",
        "    optimizer.step()\n",
        "\n",
        "    if epoch % 1000 == 0:\n",
        "        print(f'Epoch {epoch+1}/10000, Loss: {loss.item():.4f}')"
      ],
      "metadata": {
        "colab": {
          "base_uri": "https://localhost:8080/"
        },
        "id": "_Mm-mBxgTYdx",
        "outputId": "f2ec1375-6871-451b-8398-87aa43382c15"
      },
      "execution_count": 90,
      "outputs": [
        {
          "output_type": "stream",
          "name": "stdout",
          "text": [
            "Epoch 1/10000, Loss: 0.2500\n",
            "Epoch 1001/10000, Loss: 0.2500\n",
            "Epoch 2001/10000, Loss: 0.2500\n",
            "Epoch 3001/10000, Loss: 0.2500\n",
            "Epoch 4001/10000, Loss: 0.2500\n",
            "Epoch 5001/10000, Loss: 0.2500\n",
            "Epoch 6001/10000, Loss: 0.2500\n",
            "Epoch 7001/10000, Loss: 0.2500\n",
            "Epoch 8001/10000, Loss: 0.2500\n",
            "Epoch 9001/10000, Loss: 0.2500\n",
            "Epoch 10001/10000, Loss: 0.2500\n",
            "Epoch 11001/10000, Loss: 0.2500\n",
            "Epoch 12001/10000, Loss: 0.2500\n",
            "Epoch 13001/10000, Loss: 0.2500\n",
            "Epoch 14001/10000, Loss: 0.2500\n",
            "Epoch 15001/10000, Loss: 0.2500\n",
            "Epoch 16001/10000, Loss: 0.2500\n",
            "Epoch 17001/10000, Loss: 0.2500\n",
            "Epoch 18001/10000, Loss: 0.2500\n",
            "Epoch 19001/10000, Loss: 0.2500\n",
            "Epoch 20001/10000, Loss: 0.2500\n",
            "Epoch 21001/10000, Loss: 0.2500\n",
            "Epoch 22001/10000, Loss: 0.2500\n",
            "Epoch 23001/10000, Loss: 0.2500\n",
            "Epoch 24001/10000, Loss: 0.2500\n",
            "Epoch 25001/10000, Loss: 0.2500\n",
            "Epoch 26001/10000, Loss: 0.2500\n",
            "Epoch 27001/10000, Loss: 0.2500\n",
            "Epoch 28001/10000, Loss: 0.2500\n",
            "Epoch 29001/10000, Loss: 0.2500\n",
            "Epoch 30001/10000, Loss: 0.2500\n",
            "Epoch 31001/10000, Loss: 0.2500\n",
            "Epoch 32001/10000, Loss: 0.2500\n",
            "Epoch 33001/10000, Loss: 0.2500\n",
            "Epoch 34001/10000, Loss: 0.2500\n",
            "Epoch 35001/10000, Loss: 0.2500\n",
            "Epoch 36001/10000, Loss: 0.2500\n",
            "Epoch 37001/10000, Loss: 0.2500\n",
            "Epoch 38001/10000, Loss: 0.2500\n",
            "Epoch 39001/10000, Loss: 0.2500\n",
            "Epoch 40001/10000, Loss: 0.2500\n",
            "Epoch 41001/10000, Loss: 0.2500\n",
            "Epoch 42001/10000, Loss: 0.2500\n",
            "Epoch 43001/10000, Loss: 0.2500\n",
            "Epoch 44001/10000, Loss: 0.2500\n",
            "Epoch 45001/10000, Loss: 0.2500\n",
            "Epoch 46001/10000, Loss: 0.2500\n",
            "Epoch 47001/10000, Loss: 0.2500\n",
            "Epoch 48001/10000, Loss: 0.2500\n",
            "Epoch 49001/10000, Loss: 0.2500\n",
            "Epoch 50001/10000, Loss: 0.2500\n",
            "Epoch 51001/10000, Loss: 0.2500\n",
            "Epoch 52001/10000, Loss: 0.2500\n",
            "Epoch 53001/10000, Loss: 0.2500\n",
            "Epoch 54001/10000, Loss: 0.2500\n",
            "Epoch 55001/10000, Loss: 0.2500\n",
            "Epoch 56001/10000, Loss: 0.2500\n",
            "Epoch 57001/10000, Loss: 0.2500\n",
            "Epoch 58001/10000, Loss: 0.2500\n",
            "Epoch 59001/10000, Loss: 0.2500\n",
            "Epoch 60001/10000, Loss: 0.2500\n",
            "Epoch 61001/10000, Loss: 0.2500\n",
            "Epoch 62001/10000, Loss: 0.2500\n",
            "Epoch 63001/10000, Loss: 0.2500\n",
            "Epoch 64001/10000, Loss: 0.2500\n",
            "Epoch 65001/10000, Loss: 0.2500\n",
            "Epoch 66001/10000, Loss: 0.2500\n",
            "Epoch 67001/10000, Loss: 0.2500\n",
            "Epoch 68001/10000, Loss: 0.2500\n",
            "Epoch 69001/10000, Loss: 0.2500\n",
            "Epoch 70001/10000, Loss: 0.2500\n",
            "Epoch 71001/10000, Loss: 0.2500\n",
            "Epoch 72001/10000, Loss: 0.2500\n",
            "Epoch 73001/10000, Loss: 0.2500\n",
            "Epoch 74001/10000, Loss: 0.2500\n",
            "Epoch 75001/10000, Loss: 0.2500\n",
            "Epoch 76001/10000, Loss: 0.2500\n",
            "Epoch 77001/10000, Loss: 0.2500\n",
            "Epoch 78001/10000, Loss: 0.2500\n",
            "Epoch 79001/10000, Loss: 0.2500\n",
            "Epoch 80001/10000, Loss: 0.2500\n",
            "Epoch 81001/10000, Loss: 0.2500\n",
            "Epoch 82001/10000, Loss: 0.2500\n",
            "Epoch 83001/10000, Loss: 0.2500\n",
            "Epoch 84001/10000, Loss: 0.2500\n",
            "Epoch 85001/10000, Loss: 0.2500\n",
            "Epoch 86001/10000, Loss: 0.2500\n",
            "Epoch 87001/10000, Loss: 0.2500\n",
            "Epoch 88001/10000, Loss: 0.2500\n",
            "Epoch 89001/10000, Loss: 0.2500\n",
            "Epoch 90001/10000, Loss: 0.2500\n",
            "Epoch 91001/10000, Loss: 0.2500\n",
            "Epoch 92001/10000, Loss: 0.2500\n",
            "Epoch 93001/10000, Loss: 0.2500\n",
            "Epoch 94001/10000, Loss: 0.2500\n",
            "Epoch 95001/10000, Loss: 0.2500\n",
            "Epoch 96001/10000, Loss: 0.2500\n",
            "Epoch 97001/10000, Loss: 0.2500\n",
            "Epoch 98001/10000, Loss: 0.2500\n",
            "Epoch 99001/10000, Loss: 0.2500\n"
          ]
        }
      ]
    },
    {
      "cell_type": "code",
      "source": [
        "# Kiểm tra dự đoán\n",
        "with torch.no_grad():\n",
        "    predicted = model(X)\n",
        "    predicted = predicted.round() # Làm tròn dự đoán về 0 hoặc 1\n",
        "    print(f'Kết quả dự đoán:\\n{predicted}')\n"
      ],
      "metadata": {
        "colab": {
          "base_uri": "https://localhost:8080/"
        },
        "id": "IBLYj6f5TgYT",
        "outputId": "ec133d5c-57be-4a08-92a2-6f04b87e1115"
      },
      "execution_count": 88,
      "outputs": [
        {
          "output_type": "stream",
          "name": "stdout",
          "text": [
            "Kết quả dự đoán:\n",
            "tensor([[0.],\n",
            "        [0.],\n",
            "        [0.],\n",
            "        [1.]])\n"
          ]
        }
      ]
    },
    {
      "cell_type": "code",
      "source": [
        "# Lưu mô hình\n",
        "torch.save(model.state_dict(), 'xor_model_simple.pth')"
      ],
      "metadata": {
        "id": "fuDNYX6bTjrc"
      },
      "execution_count": 89,
      "outputs": []
    }
  ]
}